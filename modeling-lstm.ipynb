{
 "cells": [
  {
   "cell_type": "markdown",
   "metadata": {},
   "source": [
    "# Librairies Importation"
   ]
  },
  {
   "cell_type": "code",
   "execution_count": 2,
   "metadata": {},
   "outputs": [],
   "source": [
    "import pandas as pd\n",
    "import numpy as np\n",
    "import tensorflow as tf\n",
    "from tensorflow.keras.models import Sequential\n",
    "from tensorflow.keras.layers import Embedding, LSTM, Dense, Dropout\n",
    "from tensorflow.keras.preprocessing.text import Tokenizer\n",
    "from tensorflow.keras.preprocessing.sequence import pad_sequences\n"
   ]
  },
  {
   "cell_type": "markdown",
   "metadata": {},
   "source": [
    "# Import Files"
   ]
  },
  {
   "cell_type": "code",
   "execution_count": 3,
   "metadata": {},
   "outputs": [],
   "source": [
    "# Load the data\n",
    "train = pd.read_csv('kaggle_data/train_x.csv')\n",
    "train_labels = pd.read_csv('kaggle_data/train_y.csv')\n",
    "val = pd.read_csv('kaggle_data/val_x.csv')\n",
    "val_labels = pd.read_csv('kaggle_data/val_y.csv')\n",
    "\n",
    "# Combine X and Y for easier processing\n",
    "train = pd.concat([train, train_labels], axis=1)\n",
    "val = pd.concat([val, val_labels], axis=1)"
   ]
  },
  {
   "cell_type": "markdown",
   "metadata": {},
   "source": [
    "# Preprocessing"
   ]
  },
  {
   "cell_type": "code",
   "execution_count": 4,
   "metadata": {},
   "outputs": [],
   "source": [
    "#Change type of string column to string\n",
    "train['string'] = train['string'].astype(str)"
   ]
  },
  {
   "cell_type": "code",
   "execution_count": 5,
   "metadata": {},
   "outputs": [
    {
     "data": {
      "text/plain": [
       "<Axes: ylabel='Frequency'>"
      ]
     },
     "execution_count": 5,
     "metadata": {},
     "output_type": "execute_result"
    },
    {
     "data": {
      "image/png": "[encoded data removed]",
      "text/plain": [
       "<Figure size 640x480 with 1 Axes>"
      ]
     },
     "metadata": {},
     "output_type": "display_data"
    }
   ],
   "source": [
    "train['string'].str.len().plot(kind='hist')\n"
   ]
  },
  {
   "cell_type": "code",
   "execution_count": 6,
   "metadata": {},
   "outputs": [],
   "source": [
    "# Preprocess the text data \n",
    "tokenizer = Tokenizer(num_words=5000, oov_token=\"<OOV>\")\n",
    "tokenizer.fit_on_texts(train['string'].astype(str))\n",
    "\n",
    "# Convert text to sequences\n",
    "X_train_seq = tokenizer.texts_to_sequences(train['string'].astype(str))\n",
    "X_val_seq = tokenizer.texts_to_sequences(val['string'].astype(str))\n",
    "\n",
    "# Pad sequences to ensure uniform length\n",
    "max_length = 800  \n",
    "X_train_padded = pad_sequences(X_train_seq, maxlen=max_length, padding='post', truncating='post')\n",
    "X_val_padded = pad_sequences(X_val_seq, maxlen=max_length, padding='post', truncating='post')"
   ]
  },
  {
   "cell_type": "code",
   "execution_count": 7,
   "metadata": {},
   "outputs": [
    {
     "data": {
      "text/plain": [
       "array([[ 84,  61, 119, ...,   0,   0,   0],\n",
       "       [604, 118, 449, ...,   0,   0,   0],\n",
       "       [ 10,  17,  42, ...,   0,   0,   0],\n",
       "       ...,\n",
       "       [ 42, 258,  32, ...,   0,   0,   0],\n",
       "       [ 11,  51,  58, ...,   0,   0,   0],\n",
       "       [ 10,  83,   2, ...,   0,   0,   0]], dtype=int32)"
      ]
     },
     "execution_count": 7,
     "metadata": {},
     "output_type": "execute_result"
    }
   ],
   "source": [
    "X_train_padded"
   ]
  },
  {
   "cell_type": "code",
   "execution_count": 8,
   "metadata": {},
   "outputs": [
    {
     "name": "stdout",
     "output_type": "stream",
     "text": [
      "Model: \"sequential\"\n",
      "_________________________________________________________________\n",
      " Layer (type)                Output Shape              Param #   \n",
      "=================================================================\n",
      " embedding (Embedding)       (None, 800, 128)          640000    \n",
      "                                                                 \n",
      " lstm (LSTM)                 (None, 800, 64)           49408     \n",
      "                                                                 \n",
      " dropout (Dropout)           (None, 800, 64)           0         \n",
      "                                                                 \n",
      " lstm_1 (LSTM)               (None, 32)                12416     \n",
      "                                                                 \n",
      " dense (Dense)               (None, 1)                 33        \n",
      "                                                                 \n",
      "=================================================================\n",
      "Total params: 701857 (2.68 MB)\n",
      "Trainable params: 701857 (2.68 MB)\n",
      "Non-trainable params: 0 (0.00 Byte)\n",
      "_________________________________________________________________\n"
     ]
    }
   ],
   "source": [
    "model_lstm = Sequential([\n",
    "    Embedding(input_dim=5000, output_dim=128, input_length=max_length),\n",
    "    LSTM(64, return_sequences=True),\n",
    "    Dropout(0.2),\n",
    "    LSTM(32),\n",
    "    Dense(1, activation='sigmoid')\n",
    "])\n",
    "\n",
    "model_lstm.compile(loss='binary_crossentropy', optimizer='adam', metrics=['accuracy'])\n",
    "model_lstm.summary()\n"
   ]
  },
  {
   "cell_type": "code",
   "execution_count": 9,
   "metadata": {},
   "outputs": [
    {
     "name": "stdout",
     "output_type": "stream",
     "text": [
      "Epoch 1/5\n",
      "8408/8408 [==============================] - 15018s 2s/step - loss: 0.3543 - accuracy: 0.8865 - val_loss: 0.3505 - val_accuracy: 0.8881\n",
      "Epoch 2/5\n",
      "8408/8408 [==============================] - 10699s 1s/step - loss: 0.3539 - accuracy: 0.8866 - val_loss: 0.3507 - val_accuracy: 0.8881\n",
      "Epoch 3/5\n",
      "3819/8408 [============>.................] - ETA: 40:28 - loss: 0.3543 - accuracy: 0.8863"
     ]
    }
   ],
   "source": [
    "# Train the model\n",
    "model_lstm.fit(X_train_padded, train['y'], epochs=5, validation_data=(X_val_padded, val['y']))\n"
   ]
  },
  {
   "cell_type": "code",
   "execution_count": null,
   "metadata": {},
   "outputs": [],
   "source": [
    "from sklearn.metrics import accuracy_score\n",
    "# Predict on the validation set\n",
    "val_predictions = model_lstm.predict(X_val_padded).round()\n",
    "\n",
    "# Calculate accuracy for each subgroup and find the worst-group accuracy\n",
    "# Adjust this code as needed to fit the challenge's specific evaluation criteria\n",
    "subgroup_accuracies = []\n",
    "for subgroup in ['male', 'female', 'LGBTQ', 'christian', 'muslim', 'other_religions', 'black', 'white']:\n",
    "    subgroup_idx = val[subgroup] == 1\n",
    "    subgroup_accuracy = accuracy_score(val.loc[subgroup_idx, 'y'], val_predictions[subgroup_idx])\n",
    "    subgroup_accuracies.append(subgroup_accuracy)\n",
    "\n",
    "worst_group_accuracy = min(subgroup_accuracies)\n",
    "print(f\"Worst-Group Accuracy: {worst_group_accuracy}\")\n"
   ]
  },
  {
   "cell_type": "code",
   "execution_count": null,
   "metadata": {},
   "outputs": [],
   "source": [
    "test_x = pd.read_csv('kaggle_data/test_x.csv')\n",
    "X_test_seq = tokenizer.texts_to_sequences(test_x['string'].astype(str))\n",
    "X_test_padded = pad_sequences(X_test_seq, maxlen=max_length, padding='post', truncating='post')\n",
    "\n",
    "# Generate predictions\n",
    "test_predictions = model_lstm.predict(X_test_padded).flatten()\n",
    "\n",
    "# Prepare the submission file\n",
    "submission = pd.DataFrame({\n",
    "    'ID': test_x['index'],\n",
    "    'pred': test_predictions\n",
    "})\n",
    "submission.to_csv('submissio_lstm.csv', index=False)\n"
   ]
  }
 ],
 "metadata": {
  "kernelspec": {
   "display_name": "Python 3",
   "language": "python",
   "name": "python3"
  },
  "language_info": {
   "codemirror_mode": {
    "name": "ipython",
    "version": 3
   },
   "file_extension": ".py",
   "mimetype": "text/x-python",
   "name": "python",
   "nbconvert_exporter": "python",
   "pygments_lexer": "ipython3",
   "version": "3.9.6"
  }
 },
 "nbformat": 4,
 "nbformat_minor": 2
}
